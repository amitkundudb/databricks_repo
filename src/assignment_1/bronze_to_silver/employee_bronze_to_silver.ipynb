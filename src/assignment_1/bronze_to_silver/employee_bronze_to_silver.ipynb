{
 "cells": [
  {
   "cell_type": "code",
   "execution_count": 0,
   "metadata": {
    "application/vnd.databricks.v1+cell": {
     "cellMetadata": {
      "byteLimit": 2048000,
      "rowLimit": 10000
     },
     "inputWidgets": {},
     "nuid": "7f7839d7-5077-440e-983a-17066574e588",
     "showTitle": false,
     "title": ""
    }
   },
   "outputs": [
    {
     "output_type": "stream",
     "name": "stdout",
     "output_type": "stream",
     "text": [
      "Out[6]: <function __main__.camel_to_snake(df)>"
     ]
    }
   ],
   "source": [
    "%run /Users/kundu7337@gmail.com/assignment/source_to_bronze/utils"
   ]
  },
  {
   "cell_type": "code",
   "execution_count": 0,
   "metadata": {
    "application/vnd.databricks.v1+cell": {
     "cellMetadata": {
      "byteLimit": 2048000,
      "rowLimit": 10000
     },
     "inputWidgets": {},
     "nuid": "4b3b092f-e45b-44bb-8775-b76c942bcd3b",
     "showTitle": false,
     "title": ""
    }
   },
   "outputs": [],
   "source": [
    "from pyspark.sql.types import StructField, StructType, StringType, IntegerType"
   ]
  },
  {
   "cell_type": "code",
   "execution_count": 0,
   "metadata": {
    "application/vnd.databricks.v1+cell": {
     "cellMetadata": {
      "byteLimit": 2048000,
      "rowLimit": 10000
     },
     "inputWidgets": {},
     "nuid": "1b08c3fe-54e0-4a02-a269-9c2b687890c6",
     "showTitle": false,
     "title": ""
    }
   },
   "outputs": [
    {
     "output_type": "stream",
     "name": "stdout",
     "output_type": "stream",
     "text": [
      "+----------+------------+----------+-------+------+---+\n|EmployeeID|EmployeeName|Department|Country|Salary|Age|\n+----------+------------+----------+-------+------+---+\n|         1|       James|      D101|     IN|  9000| 25|\n|         2|      Michel|      D102|     SA|  8000| 26|\n|         3|   James son|      D101|     IN| 10000| 35|\n|         4|      Robert|      D103|     MY| 11000| 34|\n|         5|       Scott|      D104|     MA|  6000| 36|\n|         6|         Gen|      D105|     JA| 21345| 24|\n|         7|        John|      D102|     MY| 87654| 40|\n|         8|       Maria|      D105|     SA| 38144| 38|\n|         9|       Soffy|      D103|     IN| 23456| 29|\n|        10|         Amy|      D103|     CN| 21345| 24|\n+----------+------------+----------+-------+------+---+\n\nroot\n |-- EmployeeID: string (nullable = true)\n |-- EmployeeName: string (nullable = true)\n |-- Department: string (nullable = true)\n |-- Country: string (nullable = true)\n |-- Salary: string (nullable = true)\n |-- Age: string (nullable = true)\n\n"
     ]
    }
   ],
   "source": [
    "# Read file with custom schema\n",
    "custom_schema = StructType([\n",
    "    StructField(\"emp_Id\", StringType(), True),\n",
    "    StructField(\"emp_Name\", StringType(), True),\n",
    "    StructField(\"department\", StringType(), True),\n",
    "    StructField(\"Country\", StringType(),  True),\n",
    "    StructField(\"Salary\", StringType(), True),\n",
    "    StructField(\"Age\", StringType(), True),\n",
    "])\n",
    "\n",
    "emp_path = '/FileStore/assignment/resource/employee_q1.csv'\n",
    "employee_df = read_custom_schema(emp_path , custom_schema)\n",
    "employee_df.show()\n",
    "employee_df.printSchema()"
   ]
  },
  {
   "cell_type": "code",
   "execution_count": 0,
   "metadata": {
    "application/vnd.databricks.v1+cell": {
     "cellMetadata": {
      "byteLimit": 2048000,
      "rowLimit": 10000
     },
     "inputWidgets": {},
     "nuid": "2393f401-804f-4bc8-8397-e01828799b4e",
     "showTitle": false,
     "title": ""
    }
   },
   "outputs": [
    {
     "output_type": "stream",
     "name": "stdout",
     "output_type": "stream",
     "text": [
      "+------------+--------------+\n|DepartmentID|DepartmentName|\n+------------+--------------+\n|        D101|         Sales|\n|        D102|     Marketing|\n|        D103|       Finance|\n|        D104|       Support|\n|        D105|            HR|\n+------------+--------------+\n\nroot\n |-- DepartmentID: string (nullable = true)\n |-- DepartmentName: string (nullable = true)\n\n"
     ]
    }
   ],
   "source": [
    "\n",
    "schema = StructType([\n",
    "    StructField(\"dep_id\", StringType(), True),\n",
    "    StructField(\"dep_name\", StringType(), True)\n",
    "])\n",
    "\n",
    "dep_path = '/FileStore/assignment/resource/department_q1.csv'\n",
    "\n",
    "department_df = read_custom_schema(dep_path , schema)\n",
    "\n",
    "department_df.show()\n",
    "department_df.printSchema()"
   ]
  },
  {
   "cell_type": "code",
   "execution_count": 0,
   "metadata": {
    "application/vnd.databricks.v1+cell": {
     "cellMetadata": {
      "byteLimit": 2048000,
      "rowLimit": 10000
     },
     "inputWidgets": {},
     "nuid": "ee296ae9-c58a-4bc9-b30b-6d0b3bb1345d",
     "showTitle": false,
     "title": ""
    }
   },
   "outputs": [
    {
     "output_type": "stream",
     "name": "stdout",
     "output_type": "stream",
     "text": [
      "+-----------+------------+\n|CountryCode| CountryName|\n+-----------+------------+\n|         CN|       China|\n|         IN|       India|\n|         SA|South Africa|\n|         JA|       Japan|\n|         MY|    Malaysia|\n|         MA|     Morocco|\n+-----------+------------+\n\nroot\n |-- CountryCode: string (nullable = true)\n |-- CountryName: string (nullable = true)\n\n"
     ]
    }
   ],
   "source": [
    "schema=schema = StructType([\n",
    "    StructField(\"country_code\", IntegerType(), True),\n",
    "    StructField(\"country_name\", StringType(), True)\n",
    "])\n",
    "\n",
    "country_path = '/FileStore/assignment/resource/country_q1.csv'\n",
    "country_df = read_custom_schema(country_path , schema)\n",
    "country_df.show()\n",
    "country_df.printSchema()\n"
   ]
  },
  {
   "cell_type": "code",
   "execution_count": 0,
   "metadata": {
    "application/vnd.databricks.v1+cell": {
     "cellMetadata": {
      "byteLimit": 2048000,
      "rowLimit": 10000
     },
     "inputWidgets": {},
     "nuid": "281fe821-6e83-4806-8e3a-46190fa88fb8",
     "showTitle": false,
     "title": ""
    }
   },
   "outputs": [
    {
     "output_type": "display_data",
     "data": {
      "text/html": [
       "<style scoped>\n",
       "  .table-result-container {\n",
       "    max-height: 300px;\n",
       "    overflow: auto;\n",
       "  }\n",
       "  table, th, td {\n",
       "    border: 1px solid black;\n",
       "    border-collapse: collapse;\n",
       "  }\n",
       "  th, td {\n",
       "    padding: 5px;\n",
       "  }\n",
       "  th {\n",
       "    text-align: left;\n",
       "  }\n",
       "</style><div class='table-result-container'><table class='table-result'><thead style='background-color: white'><tr><th>employeeid</th><th>employeename</th><th>department</th><th>country</th><th>salary</th><th>age</th></tr></thead><tbody><tr><td>1</td><td>James</td><td>D101</td><td>IN</td><td>9000</td><td>25</td></tr><tr><td>2</td><td>Michel</td><td>D102</td><td>SA</td><td>8000</td><td>26</td></tr><tr><td>3</td><td>James son</td><td>D101</td><td>IN</td><td>10000</td><td>35</td></tr><tr><td>4</td><td>Robert</td><td>D103</td><td>MY</td><td>11000</td><td>34</td></tr><tr><td>5</td><td>Scott</td><td>D104</td><td>MA</td><td>6000</td><td>36</td></tr><tr><td>6</td><td>Gen</td><td>D105</td><td>JA</td><td>21345</td><td>24</td></tr><tr><td>7</td><td>John</td><td>D102</td><td>MY</td><td>87654</td><td>40</td></tr><tr><td>8</td><td>Maria</td><td>D105</td><td>SA</td><td>38144</td><td>38</td></tr><tr><td>9</td><td>Soffy</td><td>D103</td><td>IN</td><td>23456</td><td>29</td></tr><tr><td>10</td><td>Amy</td><td>D103</td><td>CN</td><td>21345</td><td>24</td></tr></tbody></table></div>"
      ]
     },
     "metadata": {
      "application/vnd.databricks.v1+output": {
       "addedWidgets": {},
       "aggData": [],
       "aggError": "",
       "aggOverflow": false,
       "aggSchema": [],
       "aggSeriesLimitReached": false,
       "aggType": "",
       "arguments": {},
       "columnCustomDisplayInfos": {},
       "data": [
        [
         "1",
         "James",
         "D101",
         "IN",
         "9000",
         "25"
        ],
        [
         "2",
         "Michel",
         "D102",
         "SA",
         "8000",
         "26"
        ],
        [
         "3",
         "James son",
         "D101",
         "IN",
         "10000",
         "35"
        ],
        [
         "4",
         "Robert",
         "D103",
         "MY",
         "11000",
         "34"
        ],
        [
         "5",
         "Scott",
         "D104",
         "MA",
         "6000",
         "36"
        ],
        [
         "6",
         "Gen",
         "D105",
         "JA",
         "21345",
         "24"
        ],
        [
         "7",
         "John",
         "D102",
         "MY",
         "87654",
         "40"
        ],
        [
         "8",
         "Maria",
         "D105",
         "SA",
         "38144",
         "38"
        ],
        [
         "9",
         "Soffy",
         "D103",
         "IN",
         "23456",
         "29"
        ],
        [
         "10",
         "Amy",
         "D103",
         "CN",
         "21345",
         "24"
        ]
       ],
       "datasetInfos": [],
       "dbfsResultPath": null,
       "isJsonSchema": true,
       "metadata": {},
       "overflow": false,
       "plotOptions": {
        "customPlotOptions": {},
        "displayType": "table",
        "pivotAggregation": null,
        "pivotColumns": null,
        "xColumns": null,
        "yColumns": null
       },
       "removedWidgets": [],
       "schema": [
        {
         "metadata": "{}",
         "name": "employeeid",
         "type": "\"string\""
        },
        {
         "metadata": "{}",
         "name": "employeename",
         "type": "\"string\""
        },
        {
         "metadata": "{}",
         "name": "department",
         "type": "\"string\""
        },
        {
         "metadata": "{}",
         "name": "country",
         "type": "\"string\""
        },
        {
         "metadata": "{}",
         "name": "salary",
         "type": "\"string\""
        },
        {
         "metadata": "{}",
         "name": "age",
         "type": "\"string\""
        }
       ],
       "type": "table"
      }
     },
     "output_type": "display_data"
    }
   ],
   "source": [
    "\n",
    "employee_snake_case = camel_to_snake(employee_df)\n",
    "display(employee_snake_case)"
   ]
  },
  {
   "cell_type": "code",
   "execution_count": 0,
   "metadata": {
    "application/vnd.databricks.v1+cell": {
     "cellMetadata": {
      "byteLimit": 2048000,
      "rowLimit": 10000
     },
     "inputWidgets": {},
     "nuid": "86fb8537-8c8f-4a0f-9dcc-a7587385726a",
     "showTitle": false,
     "title": ""
    }
   },
   "outputs": [
    {
     "output_type": "display_data",
     "data": {
      "text/html": [
       "<style scoped>\n",
       "  .table-result-container {\n",
       "    max-height: 300px;\n",
       "    overflow: auto;\n",
       "  }\n",
       "  table, th, td {\n",
       "    border: 1px solid black;\n",
       "    border-collapse: collapse;\n",
       "  }\n",
       "  th, td {\n",
       "    padding: 5px;\n",
       "  }\n",
       "  th {\n",
       "    text-align: left;\n",
       "  }\n",
       "</style><div class='table-result-container'><table class='table-result'><thead style='background-color: white'><tr><th>employeeid</th><th>employeename</th><th>department</th><th>country</th><th>salary</th><th>age</th><th>load_date</th></tr></thead><tbody><tr><td>1</td><td>James</td><td>D101</td><td>IN</td><td>9000</td><td>25</td><td>2024-04-17</td></tr><tr><td>2</td><td>Michel</td><td>D102</td><td>SA</td><td>8000</td><td>26</td><td>2024-04-17</td></tr><tr><td>3</td><td>James son</td><td>D101</td><td>IN</td><td>10000</td><td>35</td><td>2024-04-17</td></tr><tr><td>4</td><td>Robert</td><td>D103</td><td>MY</td><td>11000</td><td>34</td><td>2024-04-17</td></tr><tr><td>5</td><td>Scott</td><td>D104</td><td>MA</td><td>6000</td><td>36</td><td>2024-04-17</td></tr><tr><td>6</td><td>Gen</td><td>D105</td><td>JA</td><td>21345</td><td>24</td><td>2024-04-17</td></tr><tr><td>7</td><td>John</td><td>D102</td><td>MY</td><td>87654</td><td>40</td><td>2024-04-17</td></tr><tr><td>8</td><td>Maria</td><td>D105</td><td>SA</td><td>38144</td><td>38</td><td>2024-04-17</td></tr><tr><td>9</td><td>Soffy</td><td>D103</td><td>IN</td><td>23456</td><td>29</td><td>2024-04-17</td></tr><tr><td>10</td><td>Amy</td><td>D103</td><td>CN</td><td>21345</td><td>24</td><td>2024-04-17</td></tr></tbody></table></div>"
      ]
     },
     "metadata": {
      "application/vnd.databricks.v1+output": {
       "addedWidgets": {},
       "aggData": [],
       "aggError": "",
       "aggOverflow": false,
       "aggSchema": [],
       "aggSeriesLimitReached": false,
       "aggType": "",
       "arguments": {},
       "columnCustomDisplayInfos": {},
       "data": [
        [
         "1",
         "James",
         "D101",
         "IN",
         "9000",
         "25",
         "2024-04-17"
        ],
        [
         "2",
         "Michel",
         "D102",
         "SA",
         "8000",
         "26",
         "2024-04-17"
        ],
        [
         "3",
         "James son",
         "D101",
         "IN",
         "10000",
         "35",
         "2024-04-17"
        ],
        [
         "4",
         "Robert",
         "D103",
         "MY",
         "11000",
         "34",
         "2024-04-17"
        ],
        [
         "5",
         "Scott",
         "D104",
         "MA",
         "6000",
         "36",
         "2024-04-17"
        ],
        [
         "6",
         "Gen",
         "D105",
         "JA",
         "21345",
         "24",
         "2024-04-17"
        ],
        [
         "7",
         "John",
         "D102",
         "MY",
         "87654",
         "40",
         "2024-04-17"
        ],
        [
         "8",
         "Maria",
         "D105",
         "SA",
         "38144",
         "38",
         "2024-04-17"
        ],
        [
         "9",
         "Soffy",
         "D103",
         "IN",
         "23456",
         "29",
         "2024-04-17"
        ],
        [
         "10",
         "Amy",
         "D103",
         "CN",
         "21345",
         "24",
         "2024-04-17"
        ]
       ],
       "datasetInfos": [],
       "dbfsResultPath": null,
       "isJsonSchema": true,
       "metadata": {},
       "overflow": false,
       "plotOptions": {
        "customPlotOptions": {},
        "displayType": "table",
        "pivotAggregation": null,
        "pivotColumns": null,
        "xColumns": null,
        "yColumns": null
       },
       "removedWidgets": [],
       "schema": [
        {
         "metadata": "{}",
         "name": "employeeid",
         "type": "\"string\""
        },
        {
         "metadata": "{}",
         "name": "employeename",
         "type": "\"string\""
        },
        {
         "metadata": "{}",
         "name": "department",
         "type": "\"string\""
        },
        {
         "metadata": "{}",
         "name": "country",
         "type": "\"string\""
        },
        {
         "metadata": "{}",
         "name": "salary",
         "type": "\"string\""
        },
        {
         "metadata": "{}",
         "name": "age",
         "type": "\"string\""
        },
        {
         "metadata": "{}",
         "name": "load_date",
         "type": "\"date\""
        }
       ],
       "type": "table"
      }
     },
     "output_type": "display_data"
    }
   ],
   "source": [
    "date_load = current_date_df(employee_snake_case)\n",
    "display(date_load)"
   ]
  },
  {
   "cell_type": "code",
   "execution_count": 0,
   "metadata": {
    "application/vnd.databricks.v1+cell": {
     "cellMetadata": {
      "byteLimit": 2048000,
      "rowLimit": 10000
     },
     "inputWidgets": {},
     "nuid": "7cf8c950-d095-4744-a717-370ce12136dd",
     "showTitle": false,
     "title": ""
    }
   },
   "outputs": [
    {
     "output_type": "stream",
     "name": "stdout",
     "output_type": "stream",
     "text": [
      "Out[19]: DataFrame[]"
     ]
    }
   ],
   "source": [
    "\n",
    "\n",
    " spark.sql('CREATE DATABASE employee_info')\n",
    " spark.sql('use employee_info')\n"
   ]
  },
  {
   "cell_type": "code",
   "execution_count": 0,
   "metadata": {
    "application/vnd.databricks.v1+cell": {
     "cellMetadata": {
      "byteLimit": 2048000,
      "rowLimit": 10000
     },
     "inputWidgets": {},
     "nuid": "4dc677aa-85fe-4ed5-a60c-47e7897c4bd0",
     "showTitle": false,
     "title": ""
    }
   },
   "outputs": [],
   "source": [
    "employee_df.write.option('path', 'dbfs:/FileStore/assignment/questoin1/silver/employee_info/dim_employee').saveAsTable('dim_employee')"
   ]
  }
 ],
 "metadata": {
  "application/vnd.databricks.v1+notebook": {
   "dashboards": [],
   "language": "python",
   "notebookMetadata": {
    "pythonIndentUnit": 4
   },
   "notebookName": "employee_bronze_to_silver",
   "widgets": {}
  }
 },
 "nbformat": 4,
 "nbformat_minor": 0
}
