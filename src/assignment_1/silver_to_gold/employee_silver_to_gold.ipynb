{
 "cells": [
  {
   "cell_type": "code",
   "execution_count": 0,
   "metadata": {
    "application/vnd.databricks.v1+cell": {
     "cellMetadata": {
      "byteLimit": 2048000,
      "rowLimit": 10000
     },
     "inputWidgets": {},
     "nuid": "6ad45de1-24ec-47c3-89c0-ad3509dfc618",
     "showTitle": false,
     "title": ""
    }
   },
   "outputs": [
    {
     "output_type": "stream",
     "name": "stdout",
     "output_type": "stream",
     "text": [
      "Out[7]: <function __main__.camel_to_snake(df)>"
     ]
    }
   ],
   "source": [
    "%run /Users/kundu7337@gmail.com/assignment/source_to_bronze/utils\n"
   ]
  },
  {
   "cell_type": "code",
   "execution_count": 0,
   "metadata": {
    "application/vnd.databricks.v1+cell": {
     "cellMetadata": {
      "byteLimit": 2048000,
      "rowLimit": 10000
     },
     "inputWidgets": {},
     "nuid": "b84999ad-a458-4f84-9513-6537c95c602c",
     "showTitle": false,
     "title": ""
    }
   },
   "outputs": [
    {
     "output_type": "display_data",
     "data": {
      "text/html": [
       "<style scoped>\n",
       "  .table-result-container {\n",
       "    max-height: 300px;\n",
       "    overflow: auto;\n",
       "  }\n",
       "  table, th, td {\n",
       "    border: 1px solid black;\n",
       "    border-collapse: collapse;\n",
       "  }\n",
       "  th, td {\n",
       "    padding: 5px;\n",
       "  }\n",
       "  th {\n",
       "    text-align: left;\n",
       "  }\n",
       "</style><div class='table-result-container'><table class='table-result'><thead style='background-color: white'><tr><th>EmployeeID</th><th>EmployeeName</th><th>Department</th><th>Country</th><th>Salary</th><th>Age</th></tr></thead><tbody><tr><td>1</td><td>James</td><td>D101</td><td>IN</td><td>9000</td><td>25</td></tr><tr><td>2</td><td>Michel</td><td>D102</td><td>SA</td><td>8000</td><td>26</td></tr><tr><td>3</td><td>James son</td><td>D101</td><td>IN</td><td>10000</td><td>35</td></tr><tr><td>4</td><td>Robert</td><td>D103</td><td>MY</td><td>11000</td><td>34</td></tr><tr><td>5</td><td>Scott</td><td>D104</td><td>MA</td><td>6000</td><td>36</td></tr><tr><td>6</td><td>Gen</td><td>D105</td><td>JA</td><td>21345</td><td>24</td></tr><tr><td>7</td><td>John</td><td>D102</td><td>MY</td><td>87654</td><td>40</td></tr><tr><td>8</td><td>Maria</td><td>D105</td><td>SA</td><td>38144</td><td>38</td></tr><tr><td>9</td><td>Soffy</td><td>D103</td><td>IN</td><td>23456</td><td>29</td></tr><tr><td>10</td><td>Amy</td><td>D103</td><td>CN</td><td>21345</td><td>24</td></tr></tbody></table></div>"
      ]
     },
     "metadata": {
      "application/vnd.databricks.v1+output": {
       "addedWidgets": {},
       "aggData": [],
       "aggError": "",
       "aggOverflow": false,
       "aggSchema": [],
       "aggSeriesLimitReached": false,
       "aggType": "",
       "arguments": {},
       "columnCustomDisplayInfos": {},
       "data": [
        [
         "1",
         "James",
         "D101",
         "IN",
         "9000",
         "25"
        ],
        [
         "2",
         "Michel",
         "D102",
         "SA",
         "8000",
         "26"
        ],
        [
         "3",
         "James son",
         "D101",
         "IN",
         "10000",
         "35"
        ],
        [
         "4",
         "Robert",
         "D103",
         "MY",
         "11000",
         "34"
        ],
        [
         "5",
         "Scott",
         "D104",
         "MA",
         "6000",
         "36"
        ],
        [
         "6",
         "Gen",
         "D105",
         "JA",
         "21345",
         "24"
        ],
        [
         "7",
         "John",
         "D102",
         "MY",
         "87654",
         "40"
        ],
        [
         "8",
         "Maria",
         "D105",
         "SA",
         "38144",
         "38"
        ],
        [
         "9",
         "Soffy",
         "D103",
         "IN",
         "23456",
         "29"
        ],
        [
         "10",
         "Amy",
         "D103",
         "CN",
         "21345",
         "24"
        ]
       ],
       "datasetInfos": [],
       "dbfsResultPath": null,
       "isJsonSchema": true,
       "metadata": {},
       "overflow": false,
       "plotOptions": {
        "customPlotOptions": {},
        "displayType": "table",
        "pivotAggregation": null,
        "pivotColumns": null,
        "xColumns": null,
        "yColumns": null
       },
       "removedWidgets": [],
       "schema": [
        {
         "metadata": "{}",
         "name": "EmployeeID",
         "type": "\"string\""
        },
        {
         "metadata": "{}",
         "name": "EmployeeName",
         "type": "\"string\""
        },
        {
         "metadata": "{}",
         "name": "Department",
         "type": "\"string\""
        },
        {
         "metadata": "{}",
         "name": "Country",
         "type": "\"string\""
        },
        {
         "metadata": "{}",
         "name": "Salary",
         "type": "\"string\""
        },
        {
         "metadata": "{}",
         "name": "Age",
         "type": "\"string\""
        }
       ],
       "type": "table"
      }
     },
     "output_type": "display_data"
    }
   ],
   "source": [
    "employee_df = spark.read.format(\"delta\").load('dbfs:/FileStore/assignment/questoin1/silver/employee_info/dim_employee')\n",
    "display(employee_df)"
   ]
  },
  {
   "cell_type": "code",
   "execution_count": 0,
   "metadata": {
    "application/vnd.databricks.v1+cell": {
     "cellMetadata": {
      "byteLimit": 2048000,
      "rowLimit": 10000
     },
     "inputWidgets": {},
     "nuid": "d77c1f41-25c8-4dc1-af7c-38d5e59d2607",
     "showTitle": false,
     "title": ""
    }
   },
   "outputs": [
    {
     "output_type": "display_data",
     "data": {
      "text/html": [
       "<style scoped>\n",
       "  .table-result-container {\n",
       "    max-height: 300px;\n",
       "    overflow: auto;\n",
       "  }\n",
       "  table, th, td {\n",
       "    border: 1px solid black;\n",
       "    border-collapse: collapse;\n",
       "  }\n",
       "  th, td {\n",
       "    padding: 5px;\n",
       "  }\n",
       "  th {\n",
       "    text-align: left;\n",
       "  }\n",
       "</style><div class='table-result-container'><table class='table-result'><thead style='background-color: white'><tr><th>department</th><th>total_salary</th></tr></thead><tbody><tr><td>D102</td><td>95654.0</td></tr><tr><td>D105</td><td>59489.0</td></tr><tr><td>D103</td><td>55801.0</td></tr><tr><td>D101</td><td>19000.0</td></tr><tr><td>D104</td><td>6000.0</td></tr></tbody></table></div>"
      ]
     },
     "metadata": {
      "application/vnd.databricks.v1+output": {
       "addedWidgets": {},
       "aggData": [],
       "aggError": "",
       "aggOverflow": false,
       "aggSchema": [],
       "aggSeriesLimitReached": false,
       "aggType": "",
       "arguments": {},
       "columnCustomDisplayInfos": {},
       "data": [
        [
         "D102",
         95654.0
        ],
        [
         "D105",
         59489.0
        ],
        [
         "D103",
         55801.0
        ],
        [
         "D101",
         19000.0
        ],
        [
         "D104",
         6000.0
        ]
       ],
       "datasetInfos": [],
       "dbfsResultPath": null,
       "isJsonSchema": true,
       "metadata": {},
       "overflow": false,
       "plotOptions": {
        "customPlotOptions": {},
        "displayType": "table",
        "pivotAggregation": null,
        "pivotColumns": null,
        "xColumns": null,
        "yColumns": null
       },
       "removedWidgets": [],
       "schema": [
        {
         "metadata": "{}",
         "name": "department",
         "type": "\"string\""
        },
        {
         "metadata": "{}",
         "name": "total_salary",
         "type": "\"double\""
        }
       ],
       "type": "table"
      }
     },
     "output_type": "display_data"
    },
    {
     "output_type": "display_data",
     "data": {
      "text/html": [
       "<style scoped>\n",
       "  .table-result-container {\n",
       "    max-height: 300px;\n",
       "    overflow: auto;\n",
       "  }\n",
       "  table, th, td {\n",
       "    border: 1px solid black;\n",
       "    border-collapse: collapse;\n",
       "  }\n",
       "  th, td {\n",
       "    padding: 5px;\n",
       "  }\n",
       "  th {\n",
       "    text-align: left;\n",
       "  }\n",
       "</style><div class='table-result-container'><table class='table-result'><thead style='background-color: white'><tr><th>department</th><th>country</th><th>count</th></tr></thead><tbody><tr><td>D103</td><td>MY</td><td>1</td></tr><tr><td>D103</td><td>IN</td><td>1</td></tr><tr><td>D105</td><td>JA</td><td>1</td></tr><tr><td>D102</td><td>SA</td><td>1</td></tr><tr><td>D101</td><td>IN</td><td>2</td></tr><tr><td>D102</td><td>MY</td><td>1</td></tr><tr><td>D103</td><td>CN</td><td>1</td></tr><tr><td>D105</td><td>SA</td><td>1</td></tr><tr><td>D104</td><td>MA</td><td>1</td></tr></tbody></table></div>"
      ]
     },
     "metadata": {
      "application/vnd.databricks.v1+output": {
       "addedWidgets": {},
       "aggData": [],
       "aggError": "",
       "aggOverflow": false,
       "aggSchema": [],
       "aggSeriesLimitReached": false,
       "aggType": "",
       "arguments": {},
       "columnCustomDisplayInfos": {},
       "data": [
        [
         "D103",
         "MY",
         1
        ],
        [
         "D103",
         "IN",
         1
        ],
        [
         "D105",
         "JA",
         1
        ],
        [
         "D102",
         "SA",
         1
        ],
        [
         "D101",
         "IN",
         2
        ],
        [
         "D102",
         "MY",
         1
        ],
        [
         "D103",
         "CN",
         1
        ],
        [
         "D105",
         "SA",
         1
        ],
        [
         "D104",
         "MA",
         1
        ]
       ],
       "datasetInfos": [],
       "dbfsResultPath": null,
       "isJsonSchema": true,
       "metadata": {},
       "overflow": false,
       "plotOptions": {
        "customPlotOptions": {},
        "displayType": "table",
        "pivotAggregation": null,
        "pivotColumns": null,
        "xColumns": null,
        "yColumns": null
       },
       "removedWidgets": [],
       "schema": [
        {
         "metadata": "{}",
         "name": "department",
         "type": "\"string\""
        },
        {
         "metadata": "{}",
         "name": "country",
         "type": "\"string\""
        },
        {
         "metadata": "{}",
         "name": "count",
         "type": "\"long\""
        }
       ],
       "type": "table"
      }
     },
     "output_type": "display_data"
    },
    {
     "output_type": "display_data",
     "data": {
      "text/html": [
       "<style scoped>\n",
       "  .table-result-container {\n",
       "    max-height: 300px;\n",
       "    overflow: auto;\n",
       "  }\n",
       "  table, th, td {\n",
       "    border: 1px solid black;\n",
       "    border-collapse: collapse;\n",
       "  }\n",
       "  th, td {\n",
       "    padding: 5px;\n",
       "  }\n",
       "  th {\n",
       "    text-align: left;\n",
       "  }\n",
       "</style><div class='table-result-container'><table class='table-result'><thead style='background-color: white'><tr><th>department</th><th>country</th></tr></thead><tbody><tr><td>D103</td><td>MY</td></tr><tr><td>D103</td><td>IN</td></tr><tr><td>D105</td><td>JA</td></tr><tr><td>D102</td><td>SA</td></tr><tr><td>D101</td><td>IN</td></tr><tr><td>D102</td><td>MY</td></tr><tr><td>D103</td><td>CN</td></tr><tr><td>D105</td><td>SA</td></tr><tr><td>D104</td><td>MA</td></tr></tbody></table></div>"
      ]
     },
     "metadata": {
      "application/vnd.databricks.v1+output": {
       "addedWidgets": {},
       "aggData": [],
       "aggError": "",
       "aggOverflow": false,
       "aggSchema": [],
       "aggSeriesLimitReached": false,
       "aggType": "",
       "arguments": {},
       "columnCustomDisplayInfos": {},
       "data": [
        [
         "D103",
         "MY"
        ],
        [
         "D103",
         "IN"
        ],
        [
         "D105",
         "JA"
        ],
        [
         "D102",
         "SA"
        ],
        [
         "D101",
         "IN"
        ],
        [
         "D102",
         "MY"
        ],
        [
         "D103",
         "CN"
        ],
        [
         "D105",
         "SA"
        ],
        [
         "D104",
         "MA"
        ]
       ],
       "datasetInfos": [],
       "dbfsResultPath": null,
       "isJsonSchema": true,
       "metadata": {},
       "overflow": false,
       "plotOptions": {
        "customPlotOptions": {},
        "displayType": "table",
        "pivotAggregation": null,
        "pivotColumns": null,
        "xColumns": null,
        "yColumns": null
       },
       "removedWidgets": [],
       "schema": [
        {
         "metadata": "{}",
         "name": "department",
         "type": "\"string\""
        },
        {
         "metadata": "{}",
         "name": "country",
         "type": "\"string\""
        }
       ],
       "type": "table"
      }
     },
     "output_type": "display_data"
    },
    {
     "output_type": "display_data",
     "data": {
      "text/html": [
       "<style scoped>\n",
       "  .table-result-container {\n",
       "    max-height: 300px;\n",
       "    overflow: auto;\n",
       "  }\n",
       "  table, th, td {\n",
       "    border: 1px solid black;\n",
       "    border-collapse: collapse;\n",
       "  }\n",
       "  th, td {\n",
       "    padding: 5px;\n",
       "  }\n",
       "  th {\n",
       "    text-align: left;\n",
       "  }\n",
       "</style><div class='table-result-container'><table class='table-result'><thead style='background-color: white'><tr><th>department</th><th>average_age</th></tr></thead><tbody><tr><td>D105</td><td>31.0</td></tr><tr><td>D104</td><td>36.0</td></tr><tr><td>D103</td><td>29.0</td></tr><tr><td>D101</td><td>30.0</td></tr><tr><td>D102</td><td>33.0</td></tr></tbody></table></div>"
      ]
     },
     "metadata": {
      "application/vnd.databricks.v1+output": {
       "addedWidgets": {},
       "aggData": [],
       "aggError": "",
       "aggOverflow": false,
       "aggSchema": [],
       "aggSeriesLimitReached": false,
       "aggType": "",
       "arguments": {},
       "columnCustomDisplayInfos": {},
       "data": [
        [
         "D105",
         31.0
        ],
        [
         "D104",
         36.0
        ],
        [
         "D103",
         29.0
        ],
        [
         "D101",
         30.0
        ],
        [
         "D102",
         33.0
        ]
       ],
       "datasetInfos": [],
       "dbfsResultPath": null,
       "isJsonSchema": true,
       "metadata": {},
       "overflow": false,
       "plotOptions": {
        "customPlotOptions": {},
        "displayType": "table",
        "pivotAggregation": null,
        "pivotColumns": null,
        "xColumns": null,
        "yColumns": null
       },
       "removedWidgets": [],
       "schema": [
        {
         "metadata": "{}",
         "name": "department",
         "type": "\"string\""
        },
        {
         "metadata": "{}",
         "name": "average_age",
         "type": "\"double\""
        }
       ],
       "type": "table"
      }
     },
     "output_type": "display_data"
    },
    {
     "output_type": "display_data",
     "data": {
      "text/html": [
       "<style scoped>\n",
       "  .table-result-container {\n",
       "    max-height: 300px;\n",
       "    overflow: auto;\n",
       "  }\n",
       "  table, th, td {\n",
       "    border: 1px solid black;\n",
       "    border-collapse: collapse;\n",
       "  }\n",
       "  th, td {\n",
       "    padding: 5px;\n",
       "  }\n",
       "  th {\n",
       "    text-align: left;\n",
       "  }\n",
       "</style><div class='table-result-container'><table class='table-result'><thead style='background-color: white'><tr><th>EmployeeID</th><th>EmployeeName</th><th>Department</th><th>Country</th><th>Salary</th><th>Age</th><th>at_load_date</th></tr></thead><tbody><tr><td>1</td><td>James</td><td>D101</td><td>IN</td><td>9000</td><td>25</td><td>2024-04-17</td></tr><tr><td>2</td><td>Michel</td><td>D102</td><td>SA</td><td>8000</td><td>26</td><td>2024-04-17</td></tr><tr><td>3</td><td>James son</td><td>D101</td><td>IN</td><td>10000</td><td>35</td><td>2024-04-17</td></tr><tr><td>4</td><td>Robert</td><td>D103</td><td>MY</td><td>11000</td><td>34</td><td>2024-04-17</td></tr><tr><td>5</td><td>Scott</td><td>D104</td><td>MA</td><td>6000</td><td>36</td><td>2024-04-17</td></tr><tr><td>6</td><td>Gen</td><td>D105</td><td>JA</td><td>21345</td><td>24</td><td>2024-04-17</td></tr><tr><td>7</td><td>John</td><td>D102</td><td>MY</td><td>87654</td><td>40</td><td>2024-04-17</td></tr><tr><td>8</td><td>Maria</td><td>D105</td><td>SA</td><td>38144</td><td>38</td><td>2024-04-17</td></tr><tr><td>9</td><td>Soffy</td><td>D103</td><td>IN</td><td>23456</td><td>29</td><td>2024-04-17</td></tr><tr><td>10</td><td>Amy</td><td>D103</td><td>CN</td><td>21345</td><td>24</td><td>2024-04-17</td></tr></tbody></table></div>"
      ]
     },
     "metadata": {
      "application/vnd.databricks.v1+output": {
       "addedWidgets": {},
       "aggData": [],
       "aggError": "",
       "aggOverflow": false,
       "aggSchema": [],
       "aggSeriesLimitReached": false,
       "aggType": "",
       "arguments": {},
       "columnCustomDisplayInfos": {},
       "data": [
        [
         "1",
         "James",
         "D101",
         "IN",
         "9000",
         "25",
         "2024-04-17"
        ],
        [
         "2",
         "Michel",
         "D102",
         "SA",
         "8000",
         "26",
         "2024-04-17"
        ],
        [
         "3",
         "James son",
         "D101",
         "IN",
         "10000",
         "35",
         "2024-04-17"
        ],
        [
         "4",
         "Robert",
         "D103",
         "MY",
         "11000",
         "34",
         "2024-04-17"
        ],
        [
         "5",
         "Scott",
         "D104",
         "MA",
         "6000",
         "36",
         "2024-04-17"
        ],
        [
         "6",
         "Gen",
         "D105",
         "JA",
         "21345",
         "24",
         "2024-04-17"
        ],
        [
         "7",
         "John",
         "D102",
         "MY",
         "87654",
         "40",
         "2024-04-17"
        ],
        [
         "8",
         "Maria",
         "D105",
         "SA",
         "38144",
         "38",
         "2024-04-17"
        ],
        [
         "9",
         "Soffy",
         "D103",
         "IN",
         "23456",
         "29",
         "2024-04-17"
        ],
        [
         "10",
         "Amy",
         "D103",
         "CN",
         "21345",
         "24",
         "2024-04-17"
        ]
       ],
       "datasetInfos": [],
       "dbfsResultPath": null,
       "isJsonSchema": true,
       "metadata": {},
       "overflow": false,
       "plotOptions": {
        "customPlotOptions": {},
        "displayType": "table",
        "pivotAggregation": null,
        "pivotColumns": null,
        "xColumns": null,
        "yColumns": null
       },
       "removedWidgets": [],
       "schema": [
        {
         "metadata": "{}",
         "name": "EmployeeID",
         "type": "\"string\""
        },
        {
         "metadata": "{}",
         "name": "EmployeeName",
         "type": "\"string\""
        },
        {
         "metadata": "{}",
         "name": "Department",
         "type": "\"string\""
        },
        {
         "metadata": "{}",
         "name": "Country",
         "type": "\"string\""
        },
        {
         "metadata": "{}",
         "name": "Salary",
         "type": "\"string\""
        },
        {
         "metadata": "{}",
         "name": "Age",
         "type": "\"string\""
        },
        {
         "metadata": "{}",
         "name": "at_load_date",
         "type": "\"date\""
        }
       ],
       "type": "table"
      }
     },
     "output_type": "display_data"
    }
   ],
   "source": [
    "display(salary_of_each_department(employee_df))\n",
    "\n",
    "\n",
    "display(employee_count(employee_df))\n",
    "\n",
    "\n",
    "display(list_the_department(employee_df))\n",
    "\n",
    "\n",
    "\n",
    "display(avg_age(employee_df))\n",
    "\n",
    "display(add_load_date(employee_df))"
   ]
  },
  {
   "cell_type": "code",
   "execution_count": 0,
   "metadata": {
    "application/vnd.databricks.v1+cell": {
     "cellMetadata": {
      "byteLimit": 2048000,
      "rowLimit": 10000
     },
     "inputWidgets": {},
     "nuid": "d8cf14c8-7b88-459c-8931-25c616381a77",
     "showTitle": false,
     "title": ""
    }
   },
   "outputs": [],
   "source": [
    "employee_df.write.format(\"parquet\").mode(\"overwrite\").option(\"replaceWhere\",\"load_date = '2024-04-16'\").save(\"/FileStore/assignment/gold/employee/fact_employee\")"
   ]
  },
  {
   "cell_type": "code",
   "execution_count": 0,
   "metadata": {
    "application/vnd.databricks.v1+cell": {
     "cellMetadata": {
      "byteLimit": 2048000,
      "rowLimit": 10000
     },
     "inputWidgets": {},
     "nuid": "380dd746-2577-4d7a-ac1f-45c573e145b3",
     "showTitle": false,
     "title": ""
    }
   },
   "outputs": [
    {
     "output_type": "stream",
     "name": "stdout",
     "output_type": "stream",
     "text": [
      "Out[18]: True"
     ]
    }
   ],
   "source": [
    "dbutils.fs.mkdirs(\"/FileStore/assignment/src/assignment_2\")"
   ]
  }
 ],
 "metadata": {
  "application/vnd.databricks.v1+notebook": {
   "dashboards": [],
   "language": "python",
   "notebookMetadata": {
    "pythonIndentUnit": 4
   },
   "notebookName": "employee_silver_to_gold",
   "widgets": {}
  }
 },
 "nbformat": 4,
 "nbformat_minor": 0
}
