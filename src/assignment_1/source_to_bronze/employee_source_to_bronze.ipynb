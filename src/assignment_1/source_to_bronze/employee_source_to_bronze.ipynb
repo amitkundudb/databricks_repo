{
 "cells": [
  {
   "cell_type": "code",
   "execution_count": 0,
   "metadata": {
    "application/vnd.databricks.v1+cell": {
     "cellMetadata": {
      "byteLimit": 2048000,
      "rowLimit": 10000
     },
     "inputWidgets": {},
     "nuid": "de93ea82-8d6a-4abd-80ce-f993147075ab",
     "showTitle": false,
     "title": ""
    }
   },
   "outputs": [],
   "source": [
    "#Reading Datasets as dataframe\n",
    "\n",
    "country_data = spark.read.format(\"csv\").options(header = True).load(\"/FileStore/assignment/resource/country_q1.csv\")\n",
    "\n",
    "employee_data = spark.read.format(\"csv\").options(header = True).load(\"/FileStore/assignment/resource/employee_q1.csv\")\n",
    "\n",
    "department_data = spark.read.format(\"csv\").options(header = True).load(\"/FileStore/assignment/resource/department_q1.csv\")"
   ]
  },
  {
   "cell_type": "code",
   "execution_count": 0,
   "metadata": {
    "application/vnd.databricks.v1+cell": {
     "cellMetadata": {
      "byteLimit": 2048000,
      "rowLimit": 10000
     },
     "inputWidgets": {},
     "nuid": "7ee35627-6892-4a5b-80e0-80de2455537f",
     "showTitle": false,
     "title": ""
    }
   },
   "outputs": [
    {
     "output_type": "stream",
     "name": "stdout",
     "output_type": "stream",
     "text": [
      "Out[17]: <function __main__.camel_to_snake(df)>"
     ]
    }
   ],
   "source": [
    "%run \"/Users/kundu7337@gmail.com/assignment/source_to_bronze/utils\""
   ]
  },
  {
   "cell_type": "code",
   "execution_count": 0,
   "metadata": {
    "application/vnd.databricks.v1+cell": {
     "cellMetadata": {
      "byteLimit": 2048000,
      "rowLimit": 10000
     },
     "inputWidgets": {},
     "nuid": "6a94b211-c7be-4c55-9049-9ecdff7f49af",
     "showTitle": false,
     "title": ""
    }
   },
   "outputs": [],
   "source": [
    "#Writing the files in DBFS\n",
    "\n",
    "country_data.write.format(\"csv\").mode(\"ignore\").options(header = True).save(\"/source_to_bronze/country_q1.csv\")\n",
    "\n",
    "employee_data.write.format(\"csv\").mode(\"ignore\").options(header = True).save(\"/source_to_bronze/employee_q1.csv\")\n",
    "\n",
    "department_data.write.format(\"csv\").mode(\"ignore\").options(header = True).save(\"/source_to_bronze/department_q1.csv\")"
   ]
  }
 ],
 "metadata": {
  "application/vnd.databricks.v1+notebook": {
   "dashboards": [],
   "language": "python",
   "notebookMetadata": {
    "pythonIndentUnit": 4
   },
   "notebookName": "employee_source_to_bronze",
   "widgets": {}
  }
 },
 "nbformat": 4,
 "nbformat_minor": 0
}
