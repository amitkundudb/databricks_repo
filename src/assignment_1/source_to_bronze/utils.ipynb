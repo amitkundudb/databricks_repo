{
 "cells": [
  {
   "cell_type": "code",
   "execution_count": 0,
   "metadata": {
    "application/vnd.databricks.v1+cell": {
     "cellMetadata": {
      "byteLimit": 2048000,
      "rowLimit": 10000
     },
     "inputWidgets": {},
     "nuid": "4a10a07b-457c-4d96-83a0-e6c88a99a9bc",
     "showTitle": false,
     "title": ""
    }
   },
   "outputs": [],
   "source": [
    "from pyspark.sql.functions import current_date, udf , col , sum , count , avg\n"
   ]
  },
  {
   "cell_type": "code",
   "execution_count": 0,
   "metadata": {
    "application/vnd.databricks.v1+cell": {
     "cellMetadata": {
      "byteLimit": 2048000,
      "rowLimit": 10000
     },
     "inputWidgets": {},
     "nuid": "cbd9785d-99cc-485e-8d19-94ff2e8278d4",
     "showTitle": false,
     "title": ""
    }
   },
   "outputs": [],
   "source": [
    "def read_custom_schema(path,schema):\n",
    "    return spark.read.format(\"csv\").options(header = True, schema = schema).load(path)"
   ]
  },
  {
   "cell_type": "code",
   "execution_count": 0,
   "metadata": {
    "application/vnd.databricks.v1+cell": {
     "cellMetadata": {
      "byteLimit": 2048000,
      "rowLimit": 10000
     },
     "inputWidgets": {},
     "nuid": "7d68fe12-c35a-4280-92b1-2c0a9fb24b99",
     "showTitle": false,
     "title": ""
    }
   },
   "outputs": [],
   "source": [
    "\n",
    "def write_csv( df , path):\n",
    "    df.write.format('csv').save(path)"
   ]
  },
  {
   "cell_type": "code",
   "execution_count": 0,
   "metadata": {
    "application/vnd.databricks.v1+cell": {
     "cellMetadata": {
      "byteLimit": 2048000,
      "rowLimit": 10000
     },
     "inputWidgets": {},
     "nuid": "0213d407-60f8-49df-a8fe-062629f58a59",
     "showTitle": false,
     "title": ""
    }
   },
   "outputs": [],
   "source": [
    "def custom_schema_read_csv(path , schema):\n",
    "    read_custom_schema = spark.read.csv(path , schema=schema )\n",
    "    return read_custom_schema"
   ]
  },
  {
   "cell_type": "code",
   "execution_count": 0,
   "metadata": {
    "application/vnd.databricks.v1+cell": {
     "cellMetadata": {
      "byteLimit": 2048000,
      "rowLimit": 10000
     },
     "inputWidgets": {},
     "nuid": "7345b806-55b8-4842-9529-37bf804b6aa5",
     "showTitle": false,
     "title": ""
    }
   },
   "outputs": [],
   "source": [
    "def camel_to_snake(df):\n",
    "    for cols in df.columns:\n",
    "        df = df.withColumnRenamed(cols , cols.lower())\n",
    "    return df"
   ]
  },
  {
   "cell_type": "code",
   "execution_count": 0,
   "metadata": {
    "application/vnd.databricks.v1+cell": {
     "cellMetadata": {
      "byteLimit": 2048000,
      "rowLimit": 10000
     },
     "inputWidgets": {},
     "nuid": "ffc22bc5-e88e-4407-a441-c39310c9f64f",
     "showTitle": false,
     "title": ""
    }
   },
   "outputs": [
    {
     "output_type": "stream",
     "name": "stdout",
     "output_type": "stream",
     "text": [
      "Out[18]: <function __main__.camel_to_snake(df)>"
     ]
    }
   ],
   "source": [
    "udf(camel_to_snake)"
   ]
  },
  {
   "cell_type": "code",
   "execution_count": 0,
   "metadata": {
    "application/vnd.databricks.v1+cell": {
     "cellMetadata": {
      "byteLimit": 2048000,
      "rowLimit": 10000
     },
     "inputWidgets": {},
     "nuid": "d6face14-0798-417f-8992-4186ebf9d64a",
     "showTitle": false,
     "title": ""
    }
   },
   "outputs": [],
   "source": [
    "def current_date_df(df):\n",
    "    df = df.withColumn(\"load_date\" , current_date())\n",
    "    return df"
   ]
  },
  {
   "cell_type": "code",
   "execution_count": 0,
   "metadata": {
    "application/vnd.databricks.v1+cell": {
     "cellMetadata": {
      "byteLimit": 2048000,
      "rowLimit": 10000
     },
     "inputWidgets": {},
     "nuid": "0e0a522c-73c5-47eb-a9e7-a602cb703cf9",
     "showTitle": false,
     "title": ""
    }
   },
   "outputs": [],
   "source": [
    "def salary_of_each_department(df):\n",
    "    salary_by_department = df.groupby(\"department\").agg(sum(\"salary\").alias(\"total_salary\"))\n",
    "    salary_desc = salary_by_department.orderBy(col(\"total_salary\").desc())\n",
    "    return salary_desc"
   ]
  },
  {
   "cell_type": "code",
   "execution_count": 0,
   "metadata": {
    "application/vnd.databricks.v1+cell": {
     "cellMetadata": {
      "byteLimit": 2048000,
      "rowLimit": 10000
     },
     "inputWidgets": {},
     "nuid": "8a05ae67-64a6-4944-98f6-52e01da55f9b",
     "showTitle": false,
     "title": ""
    }
   },
   "outputs": [],
   "source": [
    "def employee_count(df):\n",
    "    employees_count = df.groupBy(\"department\", \"country\").count()\n",
    "    return employees_count"
   ]
  },
  {
   "cell_type": "code",
   "execution_count": 0,
   "metadata": {
    "application/vnd.databricks.v1+cell": {
     "cellMetadata": {
      "byteLimit": 2048000,
      "rowLimit": 10000
     },
     "inputWidgets": {},
     "nuid": "7d0013da-96b5-4170-afc3-0fb6e63158c2",
     "showTitle": false,
     "title": ""
    }
   },
   "outputs": [],
   "source": [
    "def list_the_department(df):\n",
    "    dept_and_country = df.select(\"department\", \"country\").distinct()\n",
    "    return dept_and_country"
   ]
  },
  {
   "cell_type": "code",
   "execution_count": 0,
   "metadata": {
    "application/vnd.databricks.v1+cell": {
     "cellMetadata": {
      "byteLimit": 2048000,
      "rowLimit": 10000
     },
     "inputWidgets": {},
     "nuid": "3072c624-9499-4fa9-8be2-6201562ae475",
     "showTitle": false,
     "title": ""
    }
   },
   "outputs": [],
   "source": [
    "def avg_age(df):\n",
    "    avg_age_by_department = df.groupBy(\"department\").agg(avg(\"age\").alias(\"average_age\"))\n",
    "    return avg_age_by_department"
   ]
  },
  {
   "cell_type": "code",
   "execution_count": 0,
   "metadata": {
    "application/vnd.databricks.v1+cell": {
     "cellMetadata": {
      "byteLimit": 2048000,
      "rowLimit": 10000
     },
     "inputWidgets": {},
     "nuid": "c51b17db-d333-445b-a0a0-baf4b476caca",
     "showTitle": false,
     "title": ""
    }
   },
   "outputs": [],
   "source": [
    "def add_load_date(df):\n",
    "    df_with_load_date = df.withColumn(\"at_load_date\", current_date())\n",
    "    return df_with_load_date"
   ]
  }
 ],
 "metadata": {
  "application/vnd.databricks.v1+notebook": {
   "dashboards": [],
   "language": "python",
   "notebookMetadata": {
    "pythonIndentUnit": 4
   },
   "notebookName": "utils",
   "widgets": {}
  }
 },
 "nbformat": 4,
 "nbformat_minor": 0
}
