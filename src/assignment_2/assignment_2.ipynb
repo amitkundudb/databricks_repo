{
 "cells": [
  {
   "cell_type": "code",
   "execution_count": 0,
   "metadata": {
    "application/vnd.databricks.v1+cell": {
     "cellMetadata": {
      "byteLimit": 2048000,
      "rowLimit": 10000
     },
     "inputWidgets": {},
     "nuid": "1de932be-2013-4307-9ab2-5e67d0a3a48e",
     "showTitle": false,
     "title": ""
    }
   },
   "outputs": [
    {
     "output_type": "stream",
     "name": "stdout",
     "output_type": "stream",
     "text": [
      "Python interpreter will be restarted.\nRequirement already satisfied: requests in /databricks/python3/lib/python3.9/site-packages (2.27.1)\nRequirement already satisfied: idna<4,>=2.5 in /databricks/python3/lib/python3.9/site-packages (from requests) (3.3)\nRequirement already satisfied: charset-normalizer~=2.0.0 in /databricks/python3/lib/python3.9/site-packages (from requests) (2.0.4)\nRequirement already satisfied: urllib3<1.27,>=1.21.1 in /databricks/python3/lib/python3.9/site-packages (from requests) (1.26.9)\nRequirement already satisfied: certifi>=2017.4.17 in /databricks/python3/lib/python3.9/site-packages (from requests) (2021.10.8)\nPython interpreter will be restarted.\n"
     ]
    }
   ],
   "source": [
    "pip install requests"
   ]
  },
  {
   "cell_type": "code",
   "execution_count": 0,
   "metadata": {
    "application/vnd.databricks.v1+cell": {
     "cellMetadata": {
      "byteLimit": 2048000,
      "rowLimit": 10000
     },
     "inputWidgets": {},
     "nuid": "700c44c3-6351-43d7-93b7-7c2cfb7aa43b",
     "showTitle": false,
     "title": ""
    }
   },
   "outputs": [],
   "source": [
    "import requests\n",
    "import json\n",
    "from pyspark.sql.types import *\n",
    "from pyspark.sql.functions import explode, split, current_date"
   ]
  },
  {
   "cell_type": "code",
   "execution_count": 0,
   "metadata": {
    "application/vnd.databricks.v1+cell": {
     "cellMetadata": {
      "byteLimit": 2048000,
      "rowLimit": 10000
     },
     "inputWidgets": {},
     "nuid": "08f8960b-d39a-4ec9-a622-1f1799ec0593",
     "showTitle": false,
     "title": ""
    }
   },
   "outputs": [
    {
     "output_type": "stream",
     "name": "stdout",
     "output_type": "stream",
     "text": [
      "{'page': 2,\n 'per_page': 6,\n 'total': 12,\n 'total_pages': 2,\n 'data': [{'id': 7,\n   'email': 'michael.lawson@reqres.in',\n   'first_name': 'Michael',\n   'last_name': 'Lawson',\n   'avatar': 'https://reqres.in/img/faces/7-image.jpg'},\n  {'id': 8,\n   'email': 'lindsay.ferguson@reqres.in',\n   'first_name': 'Lindsay',\n   'last_name': 'Ferguson',\n   'avatar': 'https://reqres.in/img/faces/8-image.jpg'},\n  {'id': 9,\n   'email': 'tobias.funke@reqres.in',\n   'first_name': 'Tobias',\n   'last_name': 'Funke',\n   'avatar': 'https://reqres.in/img/faces/9-image.jpg'},\n  {'id': 10,\n   'email': 'byron.fields@reqres.in',\n   'first_name': 'Byron',\n   'last_name': 'Fields',\n   'avatar': 'https://reqres.in/img/faces/10-image.jpg'},\n  {'id': 11,\n   'email': 'george.edwards@reqres.in',\n   'first_name': 'George',\n   'last_name': 'Edwards',\n   'avatar': 'https://reqres.in/img/faces/11-image.jpg'},\n  {'id': 12,\n   'email': 'rachel.howell@reqres.in',\n   'first_name': 'Rachel',\n   'last_name': 'Howell',\n   'avatar': 'https://reqres.in/img/faces/12-image.jpg'}],\n 'support': {'url': 'https://reqres.in/#support-heading',\n  'text': 'To keep ReqRes free, contributions towards server costs are appreciated!'}}"
     ]
    }
   ],
   "source": [
    "response_data = requests.get('https://reqres.in/api/users?page=2')\n",
    "json_data = response_data.json()\n",
    "display(json_data)"
   ]
  },
  {
   "cell_type": "code",
   "execution_count": 0,
   "metadata": {
    "application/vnd.databricks.v1+cell": {
     "cellMetadata": {
      "byteLimit": 2048000,
      "rowLimit": 10000
     },
     "inputWidgets": {},
     "nuid": "30dd3f3a-778a-4369-9efd-ab09259797a0",
     "showTitle": false,
     "title": ""
    }
   },
   "outputs": [],
   "source": [
    "data_schema = StructType([\n",
    "    StructField(\"id\", IntegerType(), True),\n",
    "    StructField(\"email\", StringType(), True),\n",
    "    StructField(\"first_name\", StringType(), True),\n",
    "    StructField(\"last_name\", StringType(), True),\n",
    "    StructField(\"avatar\", StringType(), True)\n",
    "])\n",
    "\n",
    "custom_schema = StructType([\n",
    "    StructField(\"page\", IntegerType(), True),\n",
    "    StructField(\"per_page\", IntegerType(), True),\n",
    "    StructField(\"total\", IntegerType(), True),\n",
    "    StructField(\"total_pages\", IntegerType(), True),\n",
    "    StructField(\"data\", ArrayType(data_schema), True),\n",
    "    StructField(\"support\", MapType(StringType(), StringType()), True)\n",
    "])\n"
   ]
  },
  {
   "cell_type": "code",
   "execution_count": 0,
   "metadata": {
    "application/vnd.databricks.v1+cell": {
     "cellMetadata": {
      "byteLimit": 2048000,
      "rowLimit": 10000
     },
     "inputWidgets": {},
     "nuid": "38bcf49d-2685-45bf-b96e-b6b766ea73b6",
     "showTitle": false,
     "title": ""
    }
   },
   "outputs": [
    {
     "output_type": "display_data",
     "data": {
      "text/html": [
       "<style scoped>\n",
       "  .table-result-container {\n",
       "    max-height: 300px;\n",
       "    overflow: auto;\n",
       "  }\n",
       "  table, th, td {\n",
       "    border: 1px solid black;\n",
       "    border-collapse: collapse;\n",
       "  }\n",
       "  th, td {\n",
       "    padding: 5px;\n",
       "  }\n",
       "  th {\n",
       "    text-align: left;\n",
       "  }\n",
       "</style><div class='table-result-container'><table class='table-result'><thead style='background-color: white'><tr><th>page</th><th>per_page</th><th>total</th><th>total_pages</th><th>data</th><th>support</th></tr></thead><tbody><tr><td>2</td><td>6</td><td>12</td><td>2</td><td>List(List(7, michael.lawson@reqres.in, Michael, Lawson, https://reqres.in/img/faces/7-image.jpg), List(8, lindsay.ferguson@reqres.in, Lindsay, Ferguson, https://reqres.in/img/faces/8-image.jpg), List(9, tobias.funke@reqres.in, Tobias, Funke, https://reqres.in/img/faces/9-image.jpg), List(10, byron.fields@reqres.in, Byron, Fields, https://reqres.in/img/faces/10-image.jpg), List(11, george.edwards@reqres.in, George, Edwards, https://reqres.in/img/faces/11-image.jpg), List(12, rachel.howell@reqres.in, Rachel, Howell, https://reqres.in/img/faces/12-image.jpg))</td><td>Map(url -> https://reqres.in/#support-heading, text -> To keep ReqRes free, contributions towards server costs are appreciated!)</td></tr></tbody></table></div>"
      ]
     },
     "metadata": {
      "application/vnd.databricks.v1+output": {
       "addedWidgets": {},
       "aggData": [],
       "aggError": "",
       "aggOverflow": false,
       "aggSchema": [],
       "aggSeriesLimitReached": false,
       "aggType": "",
       "arguments": {},
       "columnCustomDisplayInfos": {},
       "data": [
        [
         2,
         6,
         12,
         2,
         [
          [
           7,
           "michael.lawson@reqres.in",
           "Michael",
           "Lawson",
           "https://reqres.in/img/faces/7-image.jpg"
          ],
          [
           8,
           "lindsay.ferguson@reqres.in",
           "Lindsay",
           "Ferguson",
           "https://reqres.in/img/faces/8-image.jpg"
          ],
          [
           9,
           "tobias.funke@reqres.in",
           "Tobias",
           "Funke",
           "https://reqres.in/img/faces/9-image.jpg"
          ],
          [
           10,
           "byron.fields@reqres.in",
           "Byron",
           "Fields",
           "https://reqres.in/img/faces/10-image.jpg"
          ],
          [
           11,
           "george.edwards@reqres.in",
           "George",
           "Edwards",
           "https://reqres.in/img/faces/11-image.jpg"
          ],
          [
           12,
           "rachel.howell@reqres.in",
           "Rachel",
           "Howell",
           "https://reqres.in/img/faces/12-image.jpg"
          ]
         ],
         {
          "text": "To keep ReqRes free, contributions towards server costs are appreciated!",
          "url": "https://reqres.in/#support-heading"
         }
        ]
       ],
       "datasetInfos": [],
       "dbfsResultPath": null,
       "isJsonSchema": true,
       "metadata": {},
       "overflow": false,
       "plotOptions": {
        "customPlotOptions": {},
        "displayType": "table",
        "pivotAggregation": null,
        "pivotColumns": null,
        "xColumns": null,
        "yColumns": null
       },
       "removedWidgets": [],
       "schema": [
        {
         "metadata": "{}",
         "name": "page",
         "type": "\"integer\""
        },
        {
         "metadata": "{}",
         "name": "per_page",
         "type": "\"integer\""
        },
        {
         "metadata": "{}",
         "name": "total",
         "type": "\"integer\""
        },
        {
         "metadata": "{}",
         "name": "total_pages",
         "type": "\"integer\""
        },
        {
         "metadata": "{}",
         "name": "data",
         "type": "{\"type\":\"array\",\"elementType\":{\"type\":\"struct\",\"fields\":[{\"name\":\"id\",\"type\":\"integer\",\"nullable\":true,\"metadata\":{}},{\"name\":\"email\",\"type\":\"string\",\"nullable\":true,\"metadata\":{}},{\"name\":\"first_name\",\"type\":\"string\",\"nullable\":true,\"metadata\":{}},{\"name\":\"last_name\",\"type\":\"string\",\"nullable\":true,\"metadata\":{}},{\"name\":\"avatar\",\"type\":\"string\",\"nullable\":true,\"metadata\":{}}]},\"containsNull\":true}"
        },
        {
         "metadata": "{}",
         "name": "support",
         "type": "{\"type\":\"map\",\"keyType\":\"string\",\"valueType\":\"string\",\"valueContainsNull\":true}"
        }
       ],
       "type": "table"
      }
     },
     "output_type": "display_data"
    }
   ],
   "source": [
    "df = spark.createDataFrame([json_data], custom_schema)\n",
    "display(df)"
   ]
  },
  {
   "cell_type": "code",
   "execution_count": 0,
   "metadata": {
    "application/vnd.databricks.v1+cell": {
     "cellMetadata": {
      "byteLimit": 2048000,
      "rowLimit": 10000
     },
     "inputWidgets": {},
     "nuid": "cfbf6d9b-cbcf-40ae-85cd-3c357136d319",
     "showTitle": false,
     "title": ""
    }
   },
   "outputs": [
    {
     "output_type": "display_data",
     "data": {
      "text/html": [
       "<style scoped>\n",
       "  .table-result-container {\n",
       "    max-height: 300px;\n",
       "    overflow: auto;\n",
       "  }\n",
       "  table, th, td {\n",
       "    border: 1px solid black;\n",
       "    border-collapse: collapse;\n",
       "  }\n",
       "  th, td {\n",
       "    padding: 5px;\n",
       "  }\n",
       "  th {\n",
       "    text-align: left;\n",
       "  }\n",
       "</style><div class='table-result-container'><table class='table-result'><thead style='background-color: white'><tr><th>data</th></tr></thead><tbody><tr><td>List(List(7, michael.lawson@reqres.in, Michael, Lawson, https://reqres.in/img/faces/7-image.jpg), List(8, lindsay.ferguson@reqres.in, Lindsay, Ferguson, https://reqres.in/img/faces/8-image.jpg), List(9, tobias.funke@reqres.in, Tobias, Funke, https://reqres.in/img/faces/9-image.jpg), List(10, byron.fields@reqres.in, Byron, Fields, https://reqres.in/img/faces/10-image.jpg), List(11, george.edwards@reqres.in, George, Edwards, https://reqres.in/img/faces/11-image.jpg), List(12, rachel.howell@reqres.in, Rachel, Howell, https://reqres.in/img/faces/12-image.jpg))</td></tr></tbody></table></div>"
      ]
     },
     "metadata": {
      "application/vnd.databricks.v1+output": {
       "addedWidgets": {},
       "aggData": [],
       "aggError": "",
       "aggOverflow": false,
       "aggSchema": [],
       "aggSeriesLimitReached": false,
       "aggType": "",
       "arguments": {},
       "columnCustomDisplayInfos": {},
       "data": [
        [
         [
          [
           7,
           "michael.lawson@reqres.in",
           "Michael",
           "Lawson",
           "https://reqres.in/img/faces/7-image.jpg"
          ],
          [
           8,
           "lindsay.ferguson@reqres.in",
           "Lindsay",
           "Ferguson",
           "https://reqres.in/img/faces/8-image.jpg"
          ],
          [
           9,
           "tobias.funke@reqres.in",
           "Tobias",
           "Funke",
           "https://reqres.in/img/faces/9-image.jpg"
          ],
          [
           10,
           "byron.fields@reqres.in",
           "Byron",
           "Fields",
           "https://reqres.in/img/faces/10-image.jpg"
          ],
          [
           11,
           "george.edwards@reqres.in",
           "George",
           "Edwards",
           "https://reqres.in/img/faces/11-image.jpg"
          ],
          [
           12,
           "rachel.howell@reqres.in",
           "Rachel",
           "Howell",
           "https://reqres.in/img/faces/12-image.jpg"
          ]
         ]
        ]
       ],
       "datasetInfos": [],
       "dbfsResultPath": null,
       "isJsonSchema": true,
       "metadata": {},
       "overflow": false,
       "plotOptions": {
        "customPlotOptions": {},
        "displayType": "table",
        "pivotAggregation": null,
        "pivotColumns": null,
        "xColumns": null,
        "yColumns": null
       },
       "removedWidgets": [],
       "schema": [
        {
         "metadata": "{}",
         "name": "data",
         "type": "{\"type\":\"array\",\"elementType\":{\"type\":\"struct\",\"fields\":[{\"name\":\"id\",\"type\":\"integer\",\"nullable\":true,\"metadata\":{}},{\"name\":\"email\",\"type\":\"string\",\"nullable\":true,\"metadata\":{}},{\"name\":\"first_name\",\"type\":\"string\",\"nullable\":true,\"metadata\":{}},{\"name\":\"last_name\",\"type\":\"string\",\"nullable\":true,\"metadata\":{}},{\"name\":\"avatar\",\"type\":\"string\",\"nullable\":true,\"metadata\":{}}]},\"containsNull\":true}"
        }
       ],
       "type": "table"
      }
     },
     "output_type": "display_data"
    }
   ],
   "source": [
    "df = df.drop('page', 'per_page', 'total', 'total_pages', 'support')\n",
    "display(df)"
   ]
  },
  {
   "cell_type": "code",
   "execution_count": 0,
   "metadata": {
    "application/vnd.databricks.v1+cell": {
     "cellMetadata": {
      "byteLimit": 2048000,
      "rowLimit": 10000
     },
     "inputWidgets": {},
     "nuid": "1d58e9f3-0fef-4861-b0d9-6ee1a4935f9b",
     "showTitle": false,
     "title": ""
    }
   },
   "outputs": [
    {
     "output_type": "stream",
     "name": "stdout",
     "output_type": "stream",
     "text": [
      "root\n |-- data: array (nullable = true)\n |    |-- element: struct (containsNull = true)\n |    |    |-- id: integer (nullable = true)\n |    |    |-- email: string (nullable = true)\n |    |    |-- first_name: string (nullable = true)\n |    |    |-- last_name: string (nullable = true)\n |    |    |-- avatar: string (nullable = true)\n\n"
     ]
    }
   ],
   "source": [
    "df.printSchema()"
   ]
  },
  {
   "cell_type": "code",
   "execution_count": 0,
   "metadata": {
    "application/vnd.databricks.v1+cell": {
     "cellMetadata": {
      "byteLimit": 2048000,
      "rowLimit": 10000
     },
     "inputWidgets": {},
     "nuid": "38560866-104b-42bb-93d1-03244fe6edc9",
     "showTitle": false,
     "title": ""
    }
   },
   "outputs": [
    {
     "output_type": "display_data",
     "data": {
      "text/html": [
       "<style scoped>\n",
       "  .table-result-container {\n",
       "    max-height: 300px;\n",
       "    overflow: auto;\n",
       "  }\n",
       "  table, th, td {\n",
       "    border: 1px solid black;\n",
       "    border-collapse: collapse;\n",
       "  }\n",
       "  th, td {\n",
       "    padding: 5px;\n",
       "  }\n",
       "  th {\n",
       "    text-align: left;\n",
       "  }\n",
       "</style><div class='table-result-container'><table class='table-result'><thead style='background-color: white'><tr><th>data</th></tr></thead><tbody><tr><td>List(7, michael.lawson@reqres.in, Michael, Lawson, https://reqres.in/img/faces/7-image.jpg)</td></tr><tr><td>List(8, lindsay.ferguson@reqres.in, Lindsay, Ferguson, https://reqres.in/img/faces/8-image.jpg)</td></tr><tr><td>List(9, tobias.funke@reqres.in, Tobias, Funke, https://reqres.in/img/faces/9-image.jpg)</td></tr><tr><td>List(10, byron.fields@reqres.in, Byron, Fields, https://reqres.in/img/faces/10-image.jpg)</td></tr><tr><td>List(11, george.edwards@reqres.in, George, Edwards, https://reqres.in/img/faces/11-image.jpg)</td></tr><tr><td>List(12, rachel.howell@reqres.in, Rachel, Howell, https://reqres.in/img/faces/12-image.jpg)</td></tr></tbody></table></div>"
      ]
     },
     "metadata": {
      "application/vnd.databricks.v1+output": {
       "addedWidgets": {},
       "aggData": [],
       "aggError": "",
       "aggOverflow": false,
       "aggSchema": [],
       "aggSeriesLimitReached": false,
       "aggType": "",
       "arguments": {},
       "columnCustomDisplayInfos": {},
       "data": [
        [
         [
          7,
          "michael.lawson@reqres.in",
          "Michael",
          "Lawson",
          "https://reqres.in/img/faces/7-image.jpg"
         ]
        ],
        [
         [
          8,
          "lindsay.ferguson@reqres.in",
          "Lindsay",
          "Ferguson",
          "https://reqres.in/img/faces/8-image.jpg"
         ]
        ],
        [
         [
          9,
          "tobias.funke@reqres.in",
          "Tobias",
          "Funke",
          "https://reqres.in/img/faces/9-image.jpg"
         ]
        ],
        [
         [
          10,
          "byron.fields@reqres.in",
          "Byron",
          "Fields",
          "https://reqres.in/img/faces/10-image.jpg"
         ]
        ],
        [
         [
          11,
          "george.edwards@reqres.in",
          "George",
          "Edwards",
          "https://reqres.in/img/faces/11-image.jpg"
         ]
        ],
        [
         [
          12,
          "rachel.howell@reqres.in",
          "Rachel",
          "Howell",
          "https://reqres.in/img/faces/12-image.jpg"
         ]
        ]
       ],
       "datasetInfos": [],
       "dbfsResultPath": null,
       "isJsonSchema": true,
       "metadata": {},
       "overflow": false,
       "plotOptions": {
        "customPlotOptions": {},
        "displayType": "table",
        "pivotAggregation": null,
        "pivotColumns": null,
        "xColumns": null,
        "yColumns": null
       },
       "removedWidgets": [],
       "schema": [
        {
         "metadata": "{}",
         "name": "data",
         "type": "{\"type\":\"struct\",\"fields\":[{\"name\":\"id\",\"type\":\"integer\",\"nullable\":true,\"metadata\":{}},{\"name\":\"email\",\"type\":\"string\",\"nullable\":true,\"metadata\":{}},{\"name\":\"first_name\",\"type\":\"string\",\"nullable\":true,\"metadata\":{}},{\"name\":\"last_name\",\"type\":\"string\",\"nullable\":true,\"metadata\":{}},{\"name\":\"avatar\",\"type\":\"string\",\"nullable\":true,\"metadata\":{}}]}"
        }
       ],
       "type": "table"
      }
     },
     "output_type": "display_data"
    }
   ],
   "source": [
    "df = df.withColumn('data', explode('data'))\n",
    "display(df)"
   ]
  },
  {
   "cell_type": "code",
   "execution_count": 0,
   "metadata": {
    "application/vnd.databricks.v1+cell": {
     "cellMetadata": {
      "byteLimit": 2048000,
      "rowLimit": 10000
     },
     "inputWidgets": {},
     "nuid": "65eb9805-f5b6-49a5-89a4-330caa1c9cfc",
     "showTitle": false,
     "title": ""
    }
   },
   "outputs": [
    {
     "output_type": "stream",
     "name": "stdout",
     "output_type": "stream",
     "text": [
      "root\n |-- data: struct (nullable = true)\n |    |-- id: integer (nullable = true)\n |    |-- email: string (nullable = true)\n |    |-- first_name: string (nullable = true)\n |    |-- last_name: string (nullable = true)\n |    |-- avatar: string (nullable = true)\n\n"
     ]
    }
   ],
   "source": [
    "df.printSchema()"
   ]
  },
  {
   "cell_type": "code",
   "execution_count": 0,
   "metadata": {
    "application/vnd.databricks.v1+cell": {
     "cellMetadata": {
      "byteLimit": 2048000,
      "rowLimit": 10000
     },
     "inputWidgets": {},
     "nuid": "9e91f21f-1ff7-4c09-ae5a-1ad4f99690b6",
     "showTitle": false,
     "title": ""
    }
   },
   "outputs": [
    {
     "output_type": "display_data",
     "data": {
      "text/html": [
       "<style scoped>\n",
       "  .table-result-container {\n",
       "    max-height: 300px;\n",
       "    overflow: auto;\n",
       "  }\n",
       "  table, th, td {\n",
       "    border: 1px solid black;\n",
       "    border-collapse: collapse;\n",
       "  }\n",
       "  th, td {\n",
       "    padding: 5px;\n",
       "  }\n",
       "  th {\n",
       "    text-align: left;\n",
       "  }\n",
       "</style><div class='table-result-container'><table class='table-result'><thead style='background-color: white'><tr><th>id</th><th>email</th><th>first_name</th><th>last_name</th><th>aatar</th></tr></thead><tbody><tr><td>7</td><td>michael.lawson@reqres.in</td><td>Michael</td><td>Lawson</td><td>https://reqres.in/img/faces/7-image.jpg</td></tr><tr><td>8</td><td>lindsay.ferguson@reqres.in</td><td>Lindsay</td><td>Ferguson</td><td>https://reqres.in/img/faces/8-image.jpg</td></tr><tr><td>9</td><td>tobias.funke@reqres.in</td><td>Tobias</td><td>Funke</td><td>https://reqres.in/img/faces/9-image.jpg</td></tr><tr><td>10</td><td>byron.fields@reqres.in</td><td>Byron</td><td>Fields</td><td>https://reqres.in/img/faces/10-image.jpg</td></tr><tr><td>11</td><td>george.edwards@reqres.in</td><td>George</td><td>Edwards</td><td>https://reqres.in/img/faces/11-image.jpg</td></tr><tr><td>12</td><td>rachel.howell@reqres.in</td><td>Rachel</td><td>Howell</td><td>https://reqres.in/img/faces/12-image.jpg</td></tr></tbody></table></div>"
      ]
     },
     "metadata": {
      "application/vnd.databricks.v1+output": {
       "addedWidgets": {},
       "aggData": [],
       "aggError": "",
       "aggOverflow": false,
       "aggSchema": [],
       "aggSeriesLimitReached": false,
       "aggType": "",
       "arguments": {},
       "columnCustomDisplayInfos": {},
       "data": [
        [
         7,
         "michael.lawson@reqres.in",
         "Michael",
         "Lawson",
         "https://reqres.in/img/faces/7-image.jpg"
        ],
        [
         8,
         "lindsay.ferguson@reqres.in",
         "Lindsay",
         "Ferguson",
         "https://reqres.in/img/faces/8-image.jpg"
        ],
        [
         9,
         "tobias.funke@reqres.in",
         "Tobias",
         "Funke",
         "https://reqres.in/img/faces/9-image.jpg"
        ],
        [
         10,
         "byron.fields@reqres.in",
         "Byron",
         "Fields",
         "https://reqres.in/img/faces/10-image.jpg"
        ],
        [
         11,
         "george.edwards@reqres.in",
         "George",
         "Edwards",
         "https://reqres.in/img/faces/11-image.jpg"
        ],
        [
         12,
         "rachel.howell@reqres.in",
         "Rachel",
         "Howell",
         "https://reqres.in/img/faces/12-image.jpg"
        ]
       ],
       "datasetInfos": [],
       "dbfsResultPath": null,
       "isJsonSchema": true,
       "metadata": {},
       "overflow": false,
       "plotOptions": {
        "customPlotOptions": {},
        "displayType": "table",
        "pivotAggregation": null,
        "pivotColumns": null,
        "xColumns": null,
        "yColumns": null
       },
       "removedWidgets": [],
       "schema": [
        {
         "metadata": "{}",
         "name": "id",
         "type": "\"integer\""
        },
        {
         "metadata": "{}",
         "name": "email",
         "type": "\"string\""
        },
        {
         "metadata": "{}",
         "name": "first_name",
         "type": "\"string\""
        },
        {
         "metadata": "{}",
         "name": "last_name",
         "type": "\"string\""
        },
        {
         "metadata": "{}",
         "name": "aatar",
         "type": "\"string\""
        }
       ],
       "type": "table"
      }
     },
     "output_type": "display_data"
    }
   ],
   "source": [
    "df = df.withColumn(\"id\", df.data.id).withColumn('email', df.data.email).withColumn('first_name', df.data.first_name).withColumn('last_name', df.data.last_name).withColumn('aatar', df.data.avatar).drop(df.data)\n",
    "display(df)"
   ]
  },
  {
   "cell_type": "code",
   "execution_count": 0,
   "metadata": {
    "application/vnd.databricks.v1+cell": {
     "cellMetadata": {
      "byteLimit": 2048000,
      "rowLimit": 10000
     },
     "inputWidgets": {},
     "nuid": "e77c6de5-01f3-4d62-8249-63896b05376e",
     "showTitle": false,
     "title": ""
    }
   },
   "outputs": [
    {
     "output_type": "display_data",
     "data": {
      "text/html": [
       "<style scoped>\n",
       "  .table-result-container {\n",
       "    max-height: 300px;\n",
       "    overflow: auto;\n",
       "  }\n",
       "  table, th, td {\n",
       "    border: 1px solid black;\n",
       "    border-collapse: collapse;\n",
       "  }\n",
       "  th, td {\n",
       "    padding: 5px;\n",
       "  }\n",
       "  th {\n",
       "    text-align: left;\n",
       "  }\n",
       "</style><div class='table-result-container'><table class='table-result'><thead style='background-color: white'><tr><th>id</th><th>email</th><th>first_name</th><th>last_name</th><th>aatar</th><th>site_address</th></tr></thead><tbody><tr><td>7</td><td>michael.lawson@reqres.in</td><td>Michael</td><td>Lawson</td><td>https://reqres.in/img/faces/7-image.jpg</td><td>reqres.in</td></tr><tr><td>8</td><td>lindsay.ferguson@reqres.in</td><td>Lindsay</td><td>Ferguson</td><td>https://reqres.in/img/faces/8-image.jpg</td><td>reqres.in</td></tr><tr><td>9</td><td>tobias.funke@reqres.in</td><td>Tobias</td><td>Funke</td><td>https://reqres.in/img/faces/9-image.jpg</td><td>reqres.in</td></tr><tr><td>10</td><td>byron.fields@reqres.in</td><td>Byron</td><td>Fields</td><td>https://reqres.in/img/faces/10-image.jpg</td><td>reqres.in</td></tr><tr><td>11</td><td>george.edwards@reqres.in</td><td>George</td><td>Edwards</td><td>https://reqres.in/img/faces/11-image.jpg</td><td>reqres.in</td></tr><tr><td>12</td><td>rachel.howell@reqres.in</td><td>Rachel</td><td>Howell</td><td>https://reqres.in/img/faces/12-image.jpg</td><td>reqres.in</td></tr></tbody></table></div>"
      ]
     },
     "metadata": {
      "application/vnd.databricks.v1+output": {
       "addedWidgets": {},
       "aggData": [],
       "aggError": "",
       "aggOverflow": false,
       "aggSchema": [],
       "aggSeriesLimitReached": false,
       "aggType": "",
       "arguments": {},
       "columnCustomDisplayInfos": {},
       "data": [
        [
         7,
         "michael.lawson@reqres.in",
         "Michael",
         "Lawson",
         "https://reqres.in/img/faces/7-image.jpg",
         "reqres.in"
        ],
        [
         8,
         "lindsay.ferguson@reqres.in",
         "Lindsay",
         "Ferguson",
         "https://reqres.in/img/faces/8-image.jpg",
         "reqres.in"
        ],
        [
         9,
         "tobias.funke@reqres.in",
         "Tobias",
         "Funke",
         "https://reqres.in/img/faces/9-image.jpg",
         "reqres.in"
        ],
        [
         10,
         "byron.fields@reqres.in",
         "Byron",
         "Fields",
         "https://reqres.in/img/faces/10-image.jpg",
         "reqres.in"
        ],
        [
         11,
         "george.edwards@reqres.in",
         "George",
         "Edwards",
         "https://reqres.in/img/faces/11-image.jpg",
         "reqres.in"
        ],
        [
         12,
         "rachel.howell@reqres.in",
         "Rachel",
         "Howell",
         "https://reqres.in/img/faces/12-image.jpg",
         "reqres.in"
        ]
       ],
       "datasetInfos": [],
       "dbfsResultPath": null,
       "isJsonSchema": true,
       "metadata": {},
       "overflow": false,
       "plotOptions": {
        "customPlotOptions": {},
        "displayType": "table",
        "pivotAggregation": null,
        "pivotColumns": null,
        "xColumns": null,
        "yColumns": null
       },
       "removedWidgets": [],
       "schema": [
        {
         "metadata": "{}",
         "name": "id",
         "type": "\"integer\""
        },
        {
         "metadata": "{}",
         "name": "email",
         "type": "\"string\""
        },
        {
         "metadata": "{}",
         "name": "first_name",
         "type": "\"string\""
        },
        {
         "metadata": "{}",
         "name": "last_name",
         "type": "\"string\""
        },
        {
         "metadata": "{}",
         "name": "aatar",
         "type": "\"string\""
        },
        {
         "metadata": "{}",
         "name": "site_address",
         "type": "\"string\""
        }
       ],
       "type": "table"
      }
     },
     "output_type": "display_data"
    }
   ],
   "source": [
    "derived_site_address_df = df.withColumn(\"site_address\",split(df[\"email\"],\"@\")[1])\n",
    "display(derived_site_address_df)"
   ]
  },
  {
   "cell_type": "code",
   "execution_count": 0,
   "metadata": {
    "application/vnd.databricks.v1+cell": {
     "cellMetadata": {
      "byteLimit": 2048000,
      "rowLimit": 10000
     },
     "inputWidgets": {},
     "nuid": "b44e0bbb-4938-458e-8beb-ffa2e7cb6d64",
     "showTitle": false,
     "title": ""
    }
   },
   "outputs": [
    {
     "output_type": "display_data",
     "data": {
      "text/html": [
       "<style scoped>\n",
       "  .table-result-container {\n",
       "    max-height: 300px;\n",
       "    overflow: auto;\n",
       "  }\n",
       "  table, th, td {\n",
       "    border: 1px solid black;\n",
       "    border-collapse: collapse;\n",
       "  }\n",
       "  th, td {\n",
       "    padding: 5px;\n",
       "  }\n",
       "  th {\n",
       "    text-align: left;\n",
       "  }\n",
       "</style><div class='table-result-container'><table class='table-result'><thead style='background-color: white'><tr><th>id</th><th>email</th><th>first_name</th><th>last_name</th><th>aatar</th><th>site_address</th><th>load_date</th></tr></thead><tbody><tr><td>7</td><td>michael.lawson@reqres.in</td><td>Michael</td><td>Lawson</td><td>https://reqres.in/img/faces/7-image.jpg</td><td>reqres.in</td><td>2024-04-17</td></tr><tr><td>8</td><td>lindsay.ferguson@reqres.in</td><td>Lindsay</td><td>Ferguson</td><td>https://reqres.in/img/faces/8-image.jpg</td><td>reqres.in</td><td>2024-04-17</td></tr><tr><td>9</td><td>tobias.funke@reqres.in</td><td>Tobias</td><td>Funke</td><td>https://reqres.in/img/faces/9-image.jpg</td><td>reqres.in</td><td>2024-04-17</td></tr><tr><td>10</td><td>byron.fields@reqres.in</td><td>Byron</td><td>Fields</td><td>https://reqres.in/img/faces/10-image.jpg</td><td>reqres.in</td><td>2024-04-17</td></tr><tr><td>11</td><td>george.edwards@reqres.in</td><td>George</td><td>Edwards</td><td>https://reqres.in/img/faces/11-image.jpg</td><td>reqres.in</td><td>2024-04-17</td></tr><tr><td>12</td><td>rachel.howell@reqres.in</td><td>Rachel</td><td>Howell</td><td>https://reqres.in/img/faces/12-image.jpg</td><td>reqres.in</td><td>2024-04-17</td></tr></tbody></table></div>"
      ]
     },
     "metadata": {
      "application/vnd.databricks.v1+output": {
       "addedWidgets": {},
       "aggData": [],
       "aggError": "",
       "aggOverflow": false,
       "aggSchema": [],
       "aggSeriesLimitReached": false,
       "aggType": "",
       "arguments": {},
       "columnCustomDisplayInfos": {},
       "data": [
        [
         7,
         "michael.lawson@reqres.in",
         "Michael",
         "Lawson",
         "https://reqres.in/img/faces/7-image.jpg",
         "reqres.in",
         "2024-04-17"
        ],
        [
         8,
         "lindsay.ferguson@reqres.in",
         "Lindsay",
         "Ferguson",
         "https://reqres.in/img/faces/8-image.jpg",
         "reqres.in",
         "2024-04-17"
        ],
        [
         9,
         "tobias.funke@reqres.in",
         "Tobias",
         "Funke",
         "https://reqres.in/img/faces/9-image.jpg",
         "reqres.in",
         "2024-04-17"
        ],
        [
         10,
         "byron.fields@reqres.in",
         "Byron",
         "Fields",
         "https://reqres.in/img/faces/10-image.jpg",
         "reqres.in",
         "2024-04-17"
        ],
        [
         11,
         "george.edwards@reqres.in",
         "George",
         "Edwards",
         "https://reqres.in/img/faces/11-image.jpg",
         "reqres.in",
         "2024-04-17"
        ],
        [
         12,
         "rachel.howell@reqres.in",
         "Rachel",
         "Howell",
         "https://reqres.in/img/faces/12-image.jpg",
         "reqres.in",
         "2024-04-17"
        ]
       ],
       "datasetInfos": [],
       "dbfsResultPath": null,
       "isJsonSchema": true,
       "metadata": {},
       "overflow": false,
       "plotOptions": {
        "customPlotOptions": {},
        "displayType": "table",
        "pivotAggregation": null,
        "pivotColumns": null,
        "xColumns": null,
        "yColumns": null
       },
       "removedWidgets": [],
       "schema": [
        {
         "metadata": "{}",
         "name": "id",
         "type": "\"integer\""
        },
        {
         "metadata": "{}",
         "name": "email",
         "type": "\"string\""
        },
        {
         "metadata": "{}",
         "name": "first_name",
         "type": "\"string\""
        },
        {
         "metadata": "{}",
         "name": "last_name",
         "type": "\"string\""
        },
        {
         "metadata": "{}",
         "name": "aatar",
         "type": "\"string\""
        },
        {
         "metadata": "{}",
         "name": "site_address",
         "type": "\"string\""
        },
        {
         "metadata": "{}",
         "name": "load_date",
         "type": "\"date\""
        }
       ],
       "type": "table"
      }
     },
     "output_type": "display_data"
    }
   ],
   "source": [
    "loaded_date = derived_site_address_df.withColumn('load_date', current_date())\n",
    "display(loaded_date)"
   ]
  },
  {
   "cell_type": "code",
   "execution_count": 0,
   "metadata": {
    "application/vnd.databricks.v1+cell": {
     "cellMetadata": {
      "byteLimit": 2048000,
      "rowLimit": 10000
     },
     "inputWidgets": {},
     "nuid": "1c1d4728-0184-49e1-a25f-4d496d749513",
     "showTitle": false,
     "title": ""
    }
   },
   "outputs": [],
   "source": [
    "loaded_date.write.format('delta').mode('overwrite').save('dbfs:/FileStore/assignments/question2/site_info/person_info')"
   ]
  },
  {
   "cell_type": "code",
   "execution_count": 0,
   "metadata": {
    "application/vnd.databricks.v1+cell": {
     "cellMetadata": {
      "byteLimit": 2048000,
      "rowLimit": 10000
     },
     "inputWidgets": {},
     "nuid": "38dfc5fd-d38e-4a95-86d4-dc424664fc56",
     "showTitle": false,
     "title": ""
    }
   },
   "outputs": [
    {
     "output_type": "display_data",
     "data": {
      "text/html": [
       "<style scoped>\n",
       "  .table-result-container {\n",
       "    max-height: 300px;\n",
       "    overflow: auto;\n",
       "  }\n",
       "  table, th, td {\n",
       "    border: 1px solid black;\n",
       "    border-collapse: collapse;\n",
       "  }\n",
       "  th, td {\n",
       "    padding: 5px;\n",
       "  }\n",
       "  th {\n",
       "    text-align: left;\n",
       "  }\n",
       "</style><div class='table-result-container'><table class='table-result'><thead style='background-color: white'><tr><th>id</th><th>email</th><th>first_name</th><th>last_name</th><th>aatar</th><th>site_address</th><th>load_date</th></tr></thead><tbody><tr><td>7</td><td>michael.lawson@reqres.in</td><td>Michael</td><td>Lawson</td><td>https://reqres.in/img/faces/7-image.jpg</td><td>reqres.in</td><td>2024-04-17</td></tr><tr><td>8</td><td>lindsay.ferguson@reqres.in</td><td>Lindsay</td><td>Ferguson</td><td>https://reqres.in/img/faces/8-image.jpg</td><td>reqres.in</td><td>2024-04-17</td></tr><tr><td>9</td><td>tobias.funke@reqres.in</td><td>Tobias</td><td>Funke</td><td>https://reqres.in/img/faces/9-image.jpg</td><td>reqres.in</td><td>2024-04-17</td></tr><tr><td>10</td><td>byron.fields@reqres.in</td><td>Byron</td><td>Fields</td><td>https://reqres.in/img/faces/10-image.jpg</td><td>reqres.in</td><td>2024-04-17</td></tr><tr><td>11</td><td>george.edwards@reqres.in</td><td>George</td><td>Edwards</td><td>https://reqres.in/img/faces/11-image.jpg</td><td>reqres.in</td><td>2024-04-17</td></tr><tr><td>12</td><td>rachel.howell@reqres.in</td><td>Rachel</td><td>Howell</td><td>https://reqres.in/img/faces/12-image.jpg</td><td>reqres.in</td><td>2024-04-17</td></tr></tbody></table></div>"
      ]
     },
     "metadata": {
      "application/vnd.databricks.v1+output": {
       "addedWidgets": {},
       "aggData": [],
       "aggError": "",
       "aggOverflow": false,
       "aggSchema": [],
       "aggSeriesLimitReached": false,
       "aggType": "",
       "arguments": {},
       "columnCustomDisplayInfos": {},
       "data": [
        [
         7,
         "michael.lawson@reqres.in",
         "Michael",
         "Lawson",
         "https://reqres.in/img/faces/7-image.jpg",
         "reqres.in",
         "2024-04-17"
        ],
        [
         8,
         "lindsay.ferguson@reqres.in",
         "Lindsay",
         "Ferguson",
         "https://reqres.in/img/faces/8-image.jpg",
         "reqres.in",
         "2024-04-17"
        ],
        [
         9,
         "tobias.funke@reqres.in",
         "Tobias",
         "Funke",
         "https://reqres.in/img/faces/9-image.jpg",
         "reqres.in",
         "2024-04-17"
        ],
        [
         10,
         "byron.fields@reqres.in",
         "Byron",
         "Fields",
         "https://reqres.in/img/faces/10-image.jpg",
         "reqres.in",
         "2024-04-17"
        ],
        [
         11,
         "george.edwards@reqres.in",
         "George",
         "Edwards",
         "https://reqres.in/img/faces/11-image.jpg",
         "reqres.in",
         "2024-04-17"
        ],
        [
         12,
         "rachel.howell@reqres.in",
         "Rachel",
         "Howell",
         "https://reqres.in/img/faces/12-image.jpg",
         "reqres.in",
         "2024-04-17"
        ]
       ],
       "datasetInfos": [],
       "dbfsResultPath": null,
       "isJsonSchema": true,
       "metadata": {},
       "overflow": false,
       "plotOptions": {
        "customPlotOptions": {},
        "displayType": "table",
        "pivotAggregation": null,
        "pivotColumns": null,
        "xColumns": null,
        "yColumns": null
       },
       "removedWidgets": [],
       "schema": [
        {
         "metadata": "{}",
         "name": "id",
         "type": "\"integer\""
        },
        {
         "metadata": "{}",
         "name": "email",
         "type": "\"string\""
        },
        {
         "metadata": "{}",
         "name": "first_name",
         "type": "\"string\""
        },
        {
         "metadata": "{}",
         "name": "last_name",
         "type": "\"string\""
        },
        {
         "metadata": "{}",
         "name": "aatar",
         "type": "\"string\""
        },
        {
         "metadata": "{}",
         "name": "site_address",
         "type": "\"string\""
        },
        {
         "metadata": "{}",
         "name": "load_date",
         "type": "\"date\""
        }
       ],
       "type": "table"
      }
     },
     "output_type": "display_data"
    }
   ],
   "source": [
    "testing_df = spark.read.format('delta').load('dbfs:/FileStore/assignments/question2/site_info/person_info')\n",
    "display(testing_df)"
   ]
  }
 ],
 "metadata": {
  "application/vnd.databricks.v1+notebook": {
   "dashboards": [],
   "language": "python",
   "notebookMetadata": {
    "pythonIndentUnit": 4
   },
   "notebookName": "assignment_2",
   "widgets": {}
  }
 },
 "nbformat": 4,
 "nbformat_minor": 0
}
